{
 "cells": [
  {
   "cell_type": "code",
   "execution_count": 10,
   "metadata": {},
   "outputs": [
    {
     "name": "stdout",
     "output_type": "stream",
     "text": [
      "<class 'plotly.graph_objs._figure.Figure'>\n"
     ]
    }
   ],
   "source": [
    "import plotly.express as px \n",
    "import plotly.graph_objects as go\n",
    "\n",
    "print(go.Figure)"
   ]
  },
  {
   "cell_type": "code",
   "execution_count": 2,
   "metadata": {},
   "outputs": [
    {
     "name": "stdout",
     "output_type": "stream",
     "text": [
      "[*********************100%***********************]  1 of 1 completed\n"
     ]
    }
   ],
   "source": [
    "from pandas_datareader import data\n",
    "import datetime as dt  \n",
    "import yfinance as yf\n",
    "import pandas as pd \n",
    "yf.pdr_override()\n",
    "\n",
    "sp500 = data.get_data_yahoo('EURUSD=X' , dt.datetime(1950,1,1)) # ^GSPC"
   ]
  },
  {
   "cell_type": "code",
   "execution_count": 4,
   "metadata": {},
   "outputs": [
    {
     "data": {
      "text/plain": [
       "0.9596191644668579"
      ]
     },
     "execution_count": 4,
     "metadata": {},
     "output_type": "execute_result"
    }
   ],
   "source": [
    "sp500[\"Adj Close\"].min()"
   ]
  },
  {
   "cell_type": "code",
   "execution_count": 32,
   "metadata": {},
   "outputs": [
    {
     "data": {
      "text/plain": [
       "day\n",
       "8     17.956710\n",
       "22    17.880317\n",
       "7     17.807043\n",
       "14    17.532729\n",
       "29    17.523251\n",
       "2     17.394482\n",
       "6     17.318782\n",
       "10    17.179294\n",
       "3     17.121732\n",
       "13    17.076697\n",
       "Name: Adj Close, dtype: float64"
      ]
     },
     "execution_count": 32,
     "metadata": {},
     "output_type": "execute_result"
    }
   ],
   "source": [
    "sp500[\"month\"] = pd.to_datetime(sp500.index).month\n",
    "sp500[\"day\"] = pd.to_datetime(sp500.index).day\n",
    "sp500[\"year\"] = pd.to_datetime(sp500.index).year\n",
    "\n",
    "january_only = sp500[sp500[\"month\"] == 1]\n",
    "\n",
    "january_only.groupby(\"day\")[\"Adj Close\"].mean().nlargest(10)"
   ]
  }
 ],
 "metadata": {
  "kernelspec": {
   "display_name": "Python 3",
   "language": "python",
   "name": "python3"
  },
  "language_info": {
   "codemirror_mode": {
    "name": "ipython",
    "version": 3
   },
   "file_extension": ".py",
   "mimetype": "text/x-python",
   "name": "python",
   "nbconvert_exporter": "python",
   "pygments_lexer": "ipython3",
   "version": "3.10.5"
  }
 },
 "nbformat": 4,
 "nbformat_minor": 2
}
